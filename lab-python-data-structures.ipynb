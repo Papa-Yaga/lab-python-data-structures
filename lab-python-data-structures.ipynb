{
 "cells": [
  {
   "cell_type": "markdown",
   "metadata": {
    "tags": []
   },
   "source": [
    "# Lab | Data Structures "
   ]
  },
  {
   "cell_type": "markdown",
   "metadata": {},
   "source": [
    "## Exercise: Managing Customer Orders\n",
    "\n",
    "As part of a business venture, you are starting an online store that sells various products. To ensure smooth operations, you need to develop a program that manages customer orders and inventory.\n",
    "\n",
    "Follow the steps below to complete the exercise:\n",
    "\n",
    "1. Define a list called `products` that contains the following items: \"t-shirt\", \"mug\", \"hat\", \"book\", \"keychain\".\n",
    "\n",
    "2. Create an empty dictionary called `inventory`.\n",
    "\n",
    "3. Ask the user to input the quantity of each product available in the inventory. Use the product names from the `products` list as keys in the `inventory` dictionary and assign the respective quantities as values.\n",
    "\n",
    "4. Create an empty set called `customer_orders`.\n",
    "\n",
    "5. Ask the user to input the name of three products that a customer wants to order (from those in the products list, meaning three products out of \"t-shirt\", \"mug\", \"hat\", \"book\" or \"keychain\". Add each product name to the `customer_orders` set.\n",
    "\n",
    "6. Print the products in the `customer_orders` set.\n",
    "\n",
    "7. Calculate the following order statistics:\n",
    "   - Total Products Ordered: The total number of products in the `customer_orders` set.\n",
    "   - Percentage of Products Ordered: The percentage of products ordered compared to the total available products.\n",
    "   \n",
    "   Store these statistics in a tuple called `order_status`.\n",
    "\n",
    "8. Print the order statistics using the following format:\n",
    "   ```\n",
    "   Order Statistics:\n",
    "   Total Products Ordered: <total_products_ordered>\n",
    "   Percentage of Products Ordered: <percentage_ordered>% \n",
    "   ```\n",
    "\n",
    "9. Update the inventory by subtracting 1 from the quantity of each product. Modify the `inventory` dictionary accordingly.\n",
    "\n",
    "10. Print the updated inventory, displaying the quantity of each product on separate lines.\n",
    "\n",
    "Solve the exercise by implementing the steps using the Python concepts of lists, dictionaries, sets, and basic input/output operations. "
   ]
  },
  {
   "cell_type": "code",
   "execution_count": null,
   "metadata": {},
   "outputs": [],
   "source": [
    "# Exercise 1 --"
   ]
  },
  {
   "cell_type": "code",
   "execution_count": 21,
   "metadata": {},
   "outputs": [
    {
     "name": "stdin",
     "output_type": "stream",
     "text": [
      "Please enter the quantity of the following item: t-shirt 2\n",
      "Please enter the quantity of the following item: mug 4\n",
      "Please enter the quantity of the following item: hat 6\n",
      "Please enter the quantity of the following item: book 8\n",
      "Please enter the quantity of the following item: keychain 2\n",
      "Please enter three items you wish to order from the following catalogue: ['t-shirt', 'mug', 'hat', 'book', 'keychain'] mug hat book\n"
     ]
    },
    {
     "name": "stdout",
     "output_type": "stream",
     "text": [
      "{'book', 'hat', 'mug'}\n",
      "\n",
      "Order Statistics:\n",
      "Total Products Ordered: 3\n",
      "Percentage of Products Ordered: 0.14%\n",
      "\n",
      "t-shirt:  2\n",
      "mug:  3\n",
      "hat:  5\n",
      "book:  7\n",
      "keychain:  2\n"
     ]
    }
   ],
   "source": [
    "# Setting up variables needed for this exercise:\n",
    "\n",
    "products = [\"t-shirt\", \"mug\", \"hat\", \"book\", \"keychain\"]\n",
    "inventory = {} #Dict\n",
    "customer_orders = set()\n",
    "qty = 0\n",
    "# Asking for user input to determine the quantity of inventory.\n",
    "\n",
    "for x in products:\n",
    "    user_input = int(input(f\"Please enter the quantity of the following item: {x}\"))\n",
    "    inventory[x] = user_input\n",
    "    qty += user_input\n",
    "\n",
    "# Take user orders and print.\n",
    "\n",
    "user_orders = input(f\"Please enter three items you wish to order from the following catalogue: {products}\")\n",
    "for i in user_orders.split(\" \"):\n",
    "    customer_orders.add(i)\n",
    "print(customer_orders)\n",
    "\n",
    "total_products_ordered = len(customer_orders)\n",
    "percentage_of_products_ordered = total_products_ordered/qty\n",
    "\n",
    "# for item in customer_orders:\n",
    "#    result = 1/inventory[item]\n",
    "#    percentage_of_products_ordered.append(round(result,2))\n",
    "\n",
    "order_stats = ([total_products_ordered, percentage_of_products_ordered])\n",
    "\n",
    "print(\"\\nOrder Statistics:\\n\"\n",
    "f\"Total Products Ordered: {total_products_ordered}\\n\"\n",
    "f\"Percentage of Products Ordered: {round(percentage_of_products_ordered,2)}%\\n\")\n",
    "\n",
    "# Substracting orders from inventory.\n",
    "\n",
    "for item in products:\n",
    "    if item in customer_orders:\n",
    "        inventory[item] -= 1\n",
    "    print(f\"{item}: \", inventory[item])"
   ]
  }
 ],
 "metadata": {
  "kernelspec": {
   "display_name": "Python 3 (ipykernel)",
   "language": "python",
   "name": "python3"
  },
  "language_info": {
   "codemirror_mode": {
    "name": "ipython",
    "version": 3
   },
   "file_extension": ".py",
   "mimetype": "text/x-python",
   "name": "python",
   "nbconvert_exporter": "python",
   "pygments_lexer": "ipython3",
   "version": "3.11.7"
  }
 },
 "nbformat": 4,
 "nbformat_minor": 4
}
